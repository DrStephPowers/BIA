{
  "cells": [
    {
      "cell_type": "markdown",
      "metadata": {
        "colab_type": "text",
        "id": "view-in-github"
      },
      "source": [
        "<a href=\"https://colab.research.google.com/github/DrStephPowers/BIA/blob/main/App_Python_Practice.ipynb\" target=\"_parent\"><img src=\"https://colab.research.google.com/assets/colab-badge.svg\" alt=\"Open In Colab\"/></a>"
      ]
    },
    {
      "cell_type": "markdown",
      "metadata": {
        "id": "EW4I7RXytgTt"
      },
      "source": [
        "# Create a Function"
      ]
    },
    {
      "cell_type": "markdown",
      "metadata": {
        "id": "yi7xsXeGu1xv"
      },
      "source": [
        "### Create a function that calculates the markup percentage."
      ]
    },
    {
      "cell_type": "markdown",
      "metadata": {
        "id": "MHmR3i-RvCjr"
      },
      "source": [
        "$MarkupPerc = \\frac{Revenue - COGS}{COGS} \\times 100$"
      ]
    },
    {
      "cell_type": "code",
      "execution_count": null,
      "metadata": {
        "id": "L7DY3GysvbVS"
      },
      "outputs": [],
      "source": []
    },
    {
      "cell_type": "markdown",
      "metadata": {
        "id": "LHQsbO2fvfqA"
      },
      "source": [
        "Use the function to find the markup percentage if the Revenue = 300 and the COGS = 200?"
      ]
    },
    {
      "cell_type": "code",
      "execution_count": null,
      "metadata": {
        "id": "S9j3N79MwbgQ"
      },
      "outputs": [],
      "source": []
    },
    {
      "cell_type": "markdown",
      "metadata": {
        "id": "VGZI3Nx71uhM"
      },
      "source": [
        "What is the markup percentage for a different value of revenue and COGS?"
      ]
    },
    {
      "cell_type": "code",
      "execution_count": null,
      "metadata": {
        "id": "eDZJ1Sug1yks"
      },
      "outputs": [],
      "source": []
    },
    {
      "cell_type": "markdown",
      "metadata": {
        "id": "-91Txn-FwSaX"
      },
      "source": [
        "### Create a function that calculates the selling price using the markup percentage."
      ]
    },
    {
      "cell_type": "markdown",
      "metadata": {
        "id": "FX0bwJrNvMvd"
      },
      "source": [
        "$SellingPrice = (COGS \\times  MarkupPerc) + COGS$"
      ]
    },
    {
      "cell_type": "code",
      "execution_count": null,
      "metadata": {
        "id": "b1JY7J-FvbYd"
      },
      "outputs": [],
      "source": []
    },
    {
      "cell_type": "markdown",
      "metadata": {
        "id": "oQw53PAHweaC"
      },
      "source": [
        "Use the function to find the selling price if the markup perccentage is 15%?"
      ]
    },
    {
      "cell_type": "code",
      "execution_count": null,
      "metadata": {
        "id": "Lq61yw9Svbb4"
      },
      "outputs": [],
      "source": []
    },
    {
      "cell_type": "markdown",
      "metadata": {
        "id": "m7OzzgO715S3"
      },
      "source": [
        "What is the selling price for a different markup percentage?"
      ]
    },
    {
      "cell_type": "code",
      "execution_count": null,
      "metadata": {
        "id": "N73fQP4_15ag"
      },
      "outputs": [],
      "source": []
    },
    {
      "cell_type": "markdown",
      "metadata": {
        "id": "VxhDrAvbtkxg"
      },
      "source": [
        "# Create Loops in Functions"
      ]
    },
    {
      "cell_type": "markdown",
      "metadata": {
        "id": "koQniDF33SdW"
      },
      "source": [
        "Create a multiplication table where you provide a number. The function will find the number times 1, the number times 2, and so on, all the way to (and including) 10."
      ]
    },
    {
      "cell_type": "markdown",
      "metadata": {
        "id": "WhXVH2am394w"
      },
      "source": [
        "Hint: use print(f\"{n} x {i} = {result}\") for the output"
      ]
    },
    {
      "cell_type": "code",
      "execution_count": null,
      "metadata": {
        "id": "ncVXRdO34Q75"
      },
      "outputs": [],
      "source": []
    },
    {
      "cell_type": "markdown",
      "metadata": {
        "id": "8lxvxxpqtnvF"
      },
      "source": [
        "# Edit and Annotate the Code to Create a Math Quiz"
      ]
    },
    {
      "cell_type": "markdown",
      "metadata": {
        "id": "QoOnc27fyZW1"
      },
      "source": [
        "Add the missing portion of the code (elif)"
      ]
    },
    {
      "cell_type": "markdown",
      "metadata": {
        "id": "1uxBLHD6xZ1l"
      },
      "source": [
        "To annotate code, place # after the line in the code and then write your text."
      ]
    },
    {
      "cell_type": "code",
      "execution_count": null,
      "metadata": {
        "id": "jGUaHYCl09OR"
      },
      "outputs": [],
      "source": [
        "import random #import random number generator"
      ]
    },
    {
      "cell_type": "code",
      "execution_count": null,
      "metadata": {
        "id": "BLGmSTVOzlVx"
      },
      "outputs": [],
      "source": [
        "def ask_question(question, answer):\n",
        "  try:\n",
        "    user_answer = int(input(question + \"\"))\n",
        "    if user_answer == answer:\n",
        "      print(\"Correct!\")\n",
        "      return True\n",
        "    else:\n",
        "      print(\"Incorrect!\")\n",
        "      return False\n",
        "  except ValueError:\n",
        "    print(\"Invalid input. Please enter an integer.\")\n",
        "    return False"
      ]
    },
    {
      "cell_type": "code",
      "execution_count": null,
      "metadata": {
        "id": "QQb4qKd-x1P4"
      },
      "outputs": [],
      "source": [
        "def gen_questions():\n",
        "  num1 = random.randint(1,10)\n",
        "  num2 = random.randint(1,10)\n",
        "  operator = random.choice([\"+\",\"-\",\"*\"])\n",
        "\n",
        "  if operator == \"+\":\n",
        "      answer = num1 + num2\n",
        "  elif ????\n",
        "\n",
        "  elif ????\n",
        "\n",
        "  question = f\"What is {num1} {operator} {num2}?\"\n",
        "  return question, answer"
      ]
    },
    {
      "cell_type": "code",
      "execution_count": null,
      "metadata": {
        "id": "ja9MyTpxxiR8"
      },
      "outputs": [],
      "source": [
        "def mathquiz():\n",
        "    score = 0\n",
        "    num_questions = 5\n",
        "    for i in range(num_questions):\n",
        "        question, answer = gen_questions()\n",
        "        if ask_question(question, answer):\n",
        "            score += 1\n",
        "    print(f\"You scored {score} out of {num_questions}\")"
      ]
    },
    {
      "cell_type": "code",
      "execution_count": null,
      "metadata": {
        "id": "_oxbjf58xiVq"
      },
      "outputs": [],
      "source": [
        "mathquiz()"
      ]
    },
    {
      "cell_type": "code",
      "execution_count": null,
      "metadata": {
        "id": "otyAQZczxiYc"
      },
      "outputs": [],
      "source": []
    },
    {
      "cell_type": "code",
      "execution_count": null,
      "metadata": {
        "id": "5rFKBwggxibO"
      },
      "outputs": [],
      "source": []
    },
    {
      "cell_type": "markdown",
      "metadata": {
        "id": "KqCLzGsA2dCJ"
      },
      "source": [
        "# Edit and Fix the Code to Create a Guess the Number Game"
      ]
    },
    {
      "cell_type": "markdown",
      "metadata": {
        "id": "uwiD1lb69JG6"
      },
      "source": [
        "Create a function to generate a number between 1 and 1000. Continue the loop as long as the guess is not the secret number. Have the attempts add 1 to itself to track the number of guesses. Use a loop to output too low if the guess is less than the secret number. Too high if the guess is more than the secret number. Fix any errors or missing information in the code. Test your game."
      ]
    },
    {
      "cell_type": "code",
      "execution_count": null,
      "metadata": {
        "id": "lqZxDsSd4xXJ"
      },
      "outputs": [],
      "source": [
        "import random"
      ]
    },
    {
      "cell_type": "code",
      "execution_count": null,
      "metadata": {
        "id": "ZnZZbVGc6YhC"
      },
      "outputs": [],
      "source": [
        "def guess_number():\n",
        "  secret_number = random.randint(1,1000)\n",
        "  guess = None\n",
        "  attempts = 0\n",
        "\n",
        "  print(\"Guess the number between 1 and 1000\")\n",
        "\n",
        "  while guess ??:\n",
        "    guess = int(input(\"Enter your guess: \")\n",
        "    attempts ??\n",
        "\n",
        "    if guess ??\n",
        "        print(Too low!)\n",
        "    ?? guess ??\n",
        "        print(Too high!)\n",
        "    else:\n",
        "        print(f\"You guessed the secret number in {attempts} attempts.\")"
      ]
    },
    {
      "cell_type": "code",
      "execution_count": null,
      "metadata": {
        "id": "hEVVyFGy7h5T"
      },
      "outputs": [],
      "source": [
        "guess_number()"
      ]
    },
    {
      "cell_type": "markdown",
      "metadata": {
        "id": "XLkj3W0c-vGn"
      },
      "source": [
        "My shortest number of guesses to the correct answer was ____ attemnpts."
      ]
    },
    {
      "cell_type": "markdown",
      "metadata": {
        "id": "s0TCHPRltqQn"
      },
      "source": [
        "# Import a File"
      ]
    },
    {
      "cell_type": "markdown",
      "metadata": {
        "id": "T8wcIWf8_U4e"
      },
      "source": [
        "Export your Competencies Checklist Google Form responses and import into Python"
      ]
    },
    {
      "cell_type": "code",
      "execution_count": null,
      "metadata": {
        "id": "seDH0vobTLOR"
      },
      "outputs": [],
      "source": [
        "import pandas as pd\n",
        "import numpy as np"
      ]
    },
    {
      "cell_type": "code",
      "execution_count": null,
      "metadata": {
        "id": "3nYiNvMO2b6Y"
      },
      "outputs": [],
      "source": [
        "from google.colab import drive\n",
        "drive.mount('/content/drive')"
      ]
    },
    {
      "cell_type": "code",
      "execution_count": null,
      "metadata": {
        "id": "NN760nGXTMhM"
      },
      "outputs": [],
      "source": [
        "url = 'https://docs.google.com/spreadsheets/d/ABC123XYZ456/export?format=csv'\n",
        "df = pd.read_csv(url)\n",
        "df.head()"
      ]
    },
    {
      "cell_type": "code",
      "execution_count": null,
      "metadata": {
        "id": "TSyjEpxpTZC0"
      },
      "outputs": [],
      "source": [
        "df.describe()"
      ]
    },
    {
      "cell_type": "markdown",
      "metadata": {
        "id": "OHISdHZstu3y"
      },
      "source": [
        "# Six Degrees of Kevin Bacon"
      ]
    },
    {
      "cell_type": "markdown",
      "metadata": {
        "id": "BIp0yW00lKMW"
      },
      "source": [
        "Adapted from Michael D'Argenio, Marking Art Games and More with Pi"
      ]
    },
    {
      "cell_type": "markdown",
      "metadata": {
        "id": "Yq9w8jL-roNa"
      },
      "source": [
        "Practice webcrawling. Try using a chosen wikipedia page or a randomly chosen one."
      ]
    },
    {
      "cell_type": "code",
      "execution_count": 7,
      "metadata": {
        "id": "9RCtjiSgSvRp"
      },
      "outputs": [],
      "source": [
        "from bs4 import BeautifulSoup\n",
        "import requests\n",
        "import random"
      ]
    },
    {
      "cell_type": "code",
      "execution_count": 8,
      "metadata": {
        "id": "JctqNTFNSvUv"
      },
      "outputs": [],
      "source": [
        "def get_all_wikipages(url):\n",
        "    page = requests.get(url)\n",
        "    soup = BeautifulSoup(page.content, 'html.parser')\n",
        "\n",
        "    links = []\n",
        "    for link in soup.find_all('a'):\n",
        "        links.append(link.get('href'))\n",
        "\n",
        "    links = [link for link in links if link is not None]\n",
        "    links = [link for link in links if '/wiki/' == link[:6] and ':' not in link]\n",
        "    wiki_pages = [link for link in links if 'Main_Page' not in link]\n",
        "    return wiki_pages"
      ]
    },
    {
      "cell_type": "code",
      "execution_count": 9,
      "metadata": {
        "id": "ANp4uPjdlWfh"
      },
      "outputs": [],
      "source": [
        "url = \"https://en.wikipedia.org/wiki/Special:Random\""
      ]
    },
    {
      "cell_type": "code",
      "execution_count": 21,
      "metadata": {
        "id": "7bQ6f63fqEzI"
      },
      "outputs": [],
      "source": [
        "#url = \"https://en.wikipedia.org/wiki/New_York_City\""
      ]
    },
    {
      "cell_type": "code",
      "execution_count": 25,
      "metadata": {
        "id": "vNsbl1fgowJI"
      },
      "outputs": [],
      "source": [
        "found = False\n",
        "attempts = 0"
      ]
    },
    {
      "cell_type": "code",
      "execution_count": null,
      "metadata": {
        "id": "SqIOHIohlURO"
      },
      "outputs": [],
      "source": [
        "while found == False:\n",
        "    num = random.randint(1, 10)\n",
        "    wiki_pages = get_all_wikipages(url)\n",
        "    attempts += 1\n",
        "\n",
        "    for pg in wiki_pages:\n",
        "        if 'Kevin_Bacon' in pg:\n",
        "            found = True\n",
        "            break\n",
        "    if found:\n",
        "        break\n",
        "\n",
        "    try:\n",
        "        page = wiki_pages[len(wiki_pages) // 16 * num + num]\n",
        "    except IndexError:\n",
        "        try:\n",
        "            page = wiki_pages[num]\n",
        "        except IndexError:\n",
        "            page = wiki_pages[-1]\n",
        "    url = 'https://en.wikipedia.org' + page\n",
        "    print(f\"Attempt {attempts}: {url}\")\n",
        "\n",
        "    if attempts > 500:\n",
        "        break\n",
        "\n",
        "if found:\n",
        "    print(f\"Found Kevin Bacon on try number {attempts}.\")\n",
        "else:\n",
        "    print(\"Never found Kevin Bacon.\")"
      ]
    }
  ],
  "metadata": {
    "colab": {
      "authorship_tag": "ABX9TyNo5/wjx933y/ZYA7bLMuD9",
      "include_colab_link": true,
      "provenance": []
    },
    "kernelspec": {
      "display_name": "Python 3",
      "name": "python3"
    },
    "language_info": {
      "name": "python"
    }
  },
  "nbformat": 4,
  "nbformat_minor": 0
}
