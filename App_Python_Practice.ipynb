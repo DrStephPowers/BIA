{
  "nbformat": 4,
  "nbformat_minor": 0,
  "metadata": {
    "colab": {
      "provenance": [],
      "authorship_tag": "ABX9TyMipQaIOxlzjdg4g3I5UaPf",
      "include_colab_link": true
    },
    "kernelspec": {
      "name": "python3",
      "display_name": "Python 3"
    },
    "language_info": {
      "name": "python"
    }
  },
  "cells": [
    {
      "cell_type": "markdown",
      "metadata": {
        "id": "view-in-github",
        "colab_type": "text"
      },
      "source": [
        "<a href=\"https://colab.research.google.com/github/DrStephPowers/BIA/blob/main/App_Python_Practice.ipynb\" target=\"_parent\"><img src=\"https://colab.research.google.com/assets/colab-badge.svg\" alt=\"Open In Colab\"/></a>"
      ]
    },
    {
      "cell_type": "markdown",
      "source": [
        "Save a copy of this workbook to your Google Drive. When finished, save the workbook and submit the link in Blackboard."
      ],
      "metadata": {
        "id": "5yrs-qWZH2Kz"
      }
    },
    {
      "cell_type": "markdown",
      "source": [
        "# Create a Function"
      ],
      "metadata": {
        "id": "EW4I7RXytgTt"
      }
    },
    {
      "cell_type": "markdown",
      "source": [],
      "metadata": {
        "id": "Ey0IfaIcH1To"
      }
    },
    {
      "cell_type": "markdown",
      "source": [
        "### Create a function that calculates the markup percentage."
      ],
      "metadata": {
        "id": "yi7xsXeGu1xv"
      }
    },
    {
      "cell_type": "markdown",
      "source": [
        "$MarkupPerc = \\frac{Revenue - COGS}{COGS} \\times 100$"
      ],
      "metadata": {
        "id": "MHmR3i-RvCjr"
      }
    },
    {
      "cell_type": "code",
      "source": [],
      "metadata": {
        "id": "L7DY3GysvbVS"
      },
      "execution_count": null,
      "outputs": []
    },
    {
      "cell_type": "markdown",
      "source": [
        "Use the function to find the markup percentage if the Revenue = 300 and the COGS = 200?"
      ],
      "metadata": {
        "id": "LHQsbO2fvfqA"
      }
    },
    {
      "cell_type": "code",
      "source": [],
      "metadata": {
        "id": "S9j3N79MwbgQ"
      },
      "execution_count": null,
      "outputs": []
    },
    {
      "cell_type": "markdown",
      "source": [
        "What is the markup percentage for a different value of revenue and COGS?"
      ],
      "metadata": {
        "id": "VGZI3Nx71uhM"
      }
    },
    {
      "cell_type": "code",
      "source": [],
      "metadata": {
        "id": "eDZJ1Sug1yks"
      },
      "execution_count": null,
      "outputs": []
    },
    {
      "cell_type": "markdown",
      "source": [
        "### Create a function that calculates the selling price using the markup percentage."
      ],
      "metadata": {
        "id": "-91Txn-FwSaX"
      }
    },
    {
      "cell_type": "markdown",
      "source": [
        "$SellingPrice = (COGS \\times  MarkupPerc) + COGS$"
      ],
      "metadata": {
        "id": "FX0bwJrNvMvd"
      }
    },
    {
      "cell_type": "code",
      "source": [],
      "metadata": {
        "id": "b1JY7J-FvbYd"
      },
      "execution_count": null,
      "outputs": []
    },
    {
      "cell_type": "markdown",
      "source": [
        "Use the function to find the selling price if the markup perccentage is 15%?"
      ],
      "metadata": {
        "id": "oQw53PAHweaC"
      }
    },
    {
      "cell_type": "code",
      "source": [],
      "metadata": {
        "id": "Lq61yw9Svbb4"
      },
      "execution_count": null,
      "outputs": []
    },
    {
      "cell_type": "markdown",
      "source": [
        "What is the selling price for a different markup percentage?"
      ],
      "metadata": {
        "id": "m7OzzgO715S3"
      }
    },
    {
      "cell_type": "code",
      "source": [],
      "metadata": {
        "id": "N73fQP4_15ag"
      },
      "execution_count": null,
      "outputs": []
    },
    {
      "cell_type": "markdown",
      "source": [
        "# Create Loops in Functions"
      ],
      "metadata": {
        "id": "VxhDrAvbtkxg"
      }
    },
    {
      "cell_type": "markdown",
      "source": [
        "Create a multiplication table where you provide a number. The function will find the number times 1, the number times 2, and so on, all the way to (and including) 10."
      ],
      "metadata": {
        "id": "koQniDF33SdW"
      }
    },
    {
      "cell_type": "markdown",
      "source": [
        "Hint: use print(f\"{n} x {i} = {result}\") for the output"
      ],
      "metadata": {
        "id": "WhXVH2am394w"
      }
    },
    {
      "cell_type": "code",
      "source": [],
      "metadata": {
        "id": "ncVXRdO34Q75"
      },
      "execution_count": null,
      "outputs": []
    },
    {
      "cell_type": "markdown",
      "source": [
        "# Edit and Annotate the Code to Create a Math Quiz"
      ],
      "metadata": {
        "id": "8lxvxxpqtnvF"
      }
    },
    {
      "cell_type": "markdown",
      "source": [
        "Add the missing portion of the code (elif)"
      ],
      "metadata": {
        "id": "QoOnc27fyZW1"
      }
    },
    {
      "cell_type": "markdown",
      "source": [
        "To annotate code, place # after the line in the code and then write your text."
      ],
      "metadata": {
        "id": "1uxBLHD6xZ1l"
      }
    },
    {
      "cell_type": "code",
      "source": [
        "import random #import random number generator"
      ],
      "metadata": {
        "id": "jGUaHYCl09OR"
      },
      "execution_count": null,
      "outputs": []
    },
    {
      "cell_type": "code",
      "source": [
        "def ask_question(question, answer):\n",
        "  try:\n",
        "    user_answer = int(input(question + \"\"))\n",
        "    if user_answer == answer:\n",
        "      print(\"Correct!\")\n",
        "      return True\n",
        "    else:\n",
        "      print(\"Incorrect!\")\n",
        "      return False\n",
        "  except ValueError:\n",
        "    print(\"Invalid input. Please enter an integer.\")\n",
        "    return False"
      ],
      "metadata": {
        "id": "BLGmSTVOzlVx"
      },
      "execution_count": null,
      "outputs": []
    },
    {
      "cell_type": "code",
      "source": [
        "def gen_questions():\n",
        "  num1 = random.randint(1,10)\n",
        "  num2 = random.randint(1,10)\n",
        "  operator = random.choice([\"+\",\"-\",\"*\"])\n",
        "\n",
        "  if operator == \"+\":\n",
        "      answer = num1 + num2\n",
        "  elif ????\n",
        "\n",
        "  elif ????\n",
        "\n",
        "  question = f\"What is {num1} {operator} {num2}?\"\n",
        "  return question, answer"
      ],
      "metadata": {
        "id": "QQb4qKd-x1P4"
      },
      "execution_count": null,
      "outputs": []
    },
    {
      "cell_type": "code",
      "source": [
        "def mathquiz():\n",
        "    score = 0\n",
        "    num_questions = 5\n",
        "    for i in range(num_questions):\n",
        "        question, answer = gen_questions()\n",
        "        if ask_question(question, answer):\n",
        "            score += 1\n",
        "    print(f\"You scored {score} out of {num_questions}\")"
      ],
      "metadata": {
        "id": "ja9MyTpxxiR8"
      },
      "execution_count": null,
      "outputs": []
    },
    {
      "cell_type": "code",
      "source": [
        "mathquiz()"
      ],
      "metadata": {
        "id": "_oxbjf58xiVq"
      },
      "execution_count": null,
      "outputs": []
    },
    {
      "cell_type": "code",
      "source": [],
      "metadata": {
        "id": "otyAQZczxiYc"
      },
      "execution_count": null,
      "outputs": []
    },
    {
      "cell_type": "code",
      "source": [],
      "metadata": {
        "id": "5rFKBwggxibO"
      },
      "execution_count": null,
      "outputs": []
    },
    {
      "cell_type": "markdown",
      "source": [
        "# Edit and Fix the Code to Create a Guess the Number Game"
      ],
      "metadata": {
        "id": "KqCLzGsA2dCJ"
      }
    },
    {
      "cell_type": "markdown",
      "source": [
        "Create a function to generate a number between 1 and 1000. Continue the loop as long as the guess is not the secret number. Have the attempts add 1 to itself to track the number of guesses. Use a loop to output too low if the guess is less than the secret number. Too high if the guess is more than the secret number. Fix any errors or missing information in the code. Test your game."
      ],
      "metadata": {
        "id": "uwiD1lb69JG6"
      }
    },
    {
      "cell_type": "code",
      "source": [
        "import random"
      ],
      "metadata": {
        "id": "lqZxDsSd4xXJ"
      },
      "execution_count": null,
      "outputs": []
    },
    {
      "cell_type": "code",
      "source": [
        "def guess_number():\n",
        "  secret_number = random.randint(1,1000)\n",
        "  guess = None\n",
        "  attempts = 0\n",
        "\n",
        "  print(\"Guess the number between 1 and 1000\")\n",
        "\n",
        "  while guess ??:\n",
        "    guess = int(input(\"Enter your guess: \")\n",
        "    attempts ??\n",
        "\n",
        "    if guess ??\n",
        "        print(Too low!)\n",
        "    ?? guess ??\n",
        "        print(Too high!)\n",
        "    else:\n",
        "        print(f\"You guessed the secret number in {attempts} attempts.\")"
      ],
      "metadata": {
        "id": "ZnZZbVGc6YhC"
      },
      "execution_count": null,
      "outputs": []
    },
    {
      "cell_type": "code",
      "source": [
        "guess_number()"
      ],
      "metadata": {
        "id": "hEVVyFGy7h5T"
      },
      "execution_count": null,
      "outputs": []
    },
    {
      "cell_type": "markdown",
      "source": [
        "My shortest number of guesses to the correct answer was ____ attemnpts."
      ],
      "metadata": {
        "id": "XLkj3W0c-vGn"
      }
    },
    {
      "cell_type": "markdown",
      "source": [
        "# Import a File"
      ],
      "metadata": {
        "id": "s0TCHPRltqQn"
      }
    },
    {
      "cell_type": "markdown",
      "source": [
        "Export your Competencies Checklist Google Form responses"
      ],
      "metadata": {
        "id": "T8wcIWf8_U4e"
      }
    },
    {
      "cell_type": "markdown",
      "source": [
        "Save Excel file to your Google Drive"
      ],
      "metadata": {
        "id": "To2TVFBOHWbU"
      }
    },
    {
      "cell_type": "code",
      "source": [
        "import pandas as pd\n",
        "import numpy as np"
      ],
      "metadata": {
        "id": "seDH0vobTLOR"
      },
      "execution_count": null,
      "outputs": []
    },
    {
      "cell_type": "code",
      "source": [
        "from google.colab import drive\n",
        "drive.mount('/content/drive')"
      ],
      "metadata": {
        "id": "3nYiNvMO2b6Y"
      },
      "execution_count": null,
      "outputs": []
    },
    {
      "cell_type": "code",
      "source": [
        "df = pd.read_excel('/content/drive/MyDrive/BI BA Handbook/survey.xlsx')\n",
        "df.head()"
      ],
      "metadata": {
        "id": "NN760nGXTMhM"
      },
      "execution_count": null,
      "outputs": []
    },
    {
      "cell_type": "code",
      "source": [
        "df.describe()"
      ],
      "metadata": {
        "id": "TSyjEpxpTZC0"
      },
      "execution_count": null,
      "outputs": []
    },
    {
      "cell_type": "markdown",
      "source": [
        "### Import as Google Form"
      ],
      "metadata": {
        "id": "ytTeCXNhGp_T"
      }
    },
    {
      "cell_type": "markdown",
      "source": [
        "Change Google Sheet to anyone with link can view. Grab the link. If not in your Google Drive, save a copy to your drive first."
      ],
      "metadata": {
        "id": "qKbdXEUTHdxn"
      }
    },
    {
      "cell_type": "code",
      "source": [
        "import pandas as pd\n",
        "import numpy as np"
      ],
      "metadata": {
        "id": "8xlLDMX4GpOY"
      },
      "execution_count": null,
      "outputs": []
    },
    {
      "cell_type": "code",
      "source": [
        "from google.colab import drive\n",
        "drive.mount('/content/drive')"
      ],
      "metadata": {
        "id": "FzBK0gQKGpKb"
      },
      "execution_count": null,
      "outputs": []
    },
    {
      "cell_type": "code",
      "source": [
        "url = 'https://docs.google.com/spreadsheets/d/ABC123XYZ456/export?format=csv'\n",
        "df = pd.read_csv(url)\n",
        "df.head()"
      ],
      "metadata": {
        "id": "eb5Dj_knG6ve"
      },
      "execution_count": null,
      "outputs": []
    }
  ]
}