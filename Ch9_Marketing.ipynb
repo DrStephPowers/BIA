{
  "nbformat": 4,
  "nbformat_minor": 0,
  "metadata": {
    "colab": {
      "provenance": [],
      "authorship_tag": "ABX9TyPCjZJvTncNEcNvuKiw8BKN",
      "include_colab_link": true
    },
    "kernelspec": {
      "name": "python3",
      "display_name": "Python 3"
    },
    "language_info": {
      "name": "python"
    }
  },
  "cells": [
    {
      "cell_type": "markdown",
      "metadata": {
        "id": "view-in-github",
        "colab_type": "text"
      },
      "source": [
        "<a href=\"https://colab.research.google.com/github/DrStephPowers/BIA/blob/main/Ch9_Marketing.ipynb\" target=\"_parent\"><img src=\"https://colab.research.google.com/assets/colab-badge.svg\" alt=\"Open In Colab\"/></a>"
      ]
    },
    {
      "cell_type": "markdown",
      "source": [
        "### Association Rule Analysis"
      ],
      "metadata": {
        "id": "WmtvNhd1zOs7"
      }
    },
    {
      "cell_type": "code",
      "source": [
        "!pip install apyori"
      ],
      "metadata": {
        "colab": {
          "base_uri": "https://localhost:8080/"
        },
        "id": "DzxiD3rlyFR6",
        "outputId": "bbeed90f-b89c-42b5-c900-8e68ce318822"
      },
      "execution_count": 2,
      "outputs": [
        {
          "output_type": "stream",
          "name": "stdout",
          "text": [
            "Collecting apyori\n",
            "  Downloading apyori-1.1.2.tar.gz (8.6 kB)\n",
            "  Preparing metadata (setup.py) ... \u001b[?25l\u001b[?25hdone\n",
            "Building wheels for collected packages: apyori\n",
            "  Building wheel for apyori (setup.py) ... \u001b[?25l\u001b[?25hdone\n",
            "  Created wheel for apyori: filename=apyori-1.1.2-py3-none-any.whl size=5953 sha256=0e3cd986139c8940ea0515cd411b0dbdb663e73938e59c3738ea4a2e12f6c0aa\n",
            "  Stored in directory: /root/.cache/pip/wheels/c4/1a/79/20f55c470a50bb3702a8cb7c94d8ada15573538c7f4baebe2d\n",
            "Successfully built apyori\n",
            "Installing collected packages: apyori\n",
            "Successfully installed apyori-1.1.2\n"
          ]
        }
      ]
    },
    {
      "cell_type": "code",
      "source": [
        "from apyori import apriori"
      ],
      "metadata": {
        "id": "mrDK65y6x0-H"
      },
      "execution_count": 3,
      "outputs": []
    },
    {
      "cell_type": "code",
      "source": [
        "transactions = [\n",
        "    ['shampoo', 'hairspray', 'eyeshadow'],\n",
        "    ['shampoo', 'conditioner'],\n",
        "    ['toothpaste', 'hairspray', 'lipstick'],\n",
        "    ['shampoo', 'conditioner', 'toothpaste'],\n",
        "    ['eyeshadow', 'conditioner', 'lipstick']\n",
        "]"
      ],
      "metadata": {
        "id": "1u8RVbvBy0LA"
      },
      "execution_count": 15,
      "outputs": []
    },
    {
      "cell_type": "code",
      "source": [
        "list(apriori(transactions,\n",
        "             min_support=0.02,\n",
        "             min_confidence=0.80,\n",
        "             min_lift=1.0,\n",
        "             max_length=None))"
      ],
      "metadata": {
        "colab": {
          "base_uri": "https://localhost:8080/"
        },
        "id": "MKHEibJnyZtb",
        "outputId": "b92ce381-69db-49c3-b503-1819f1051380"
      },
      "execution_count": 19,
      "outputs": [
        {
          "output_type": "execute_result",
          "data": {
            "text/plain": [
              "[RelationRecord(items=frozenset({'lipstick', 'conditioner', 'eyeshadow'}), support=0.2, ordered_statistics=[OrderedStatistic(items_base=frozenset({'conditioner', 'eyeshadow'}), items_add=frozenset({'lipstick'}), confidence=1.0, lift=2.5), OrderedStatistic(items_base=frozenset({'lipstick', 'conditioner'}), items_add=frozenset({'eyeshadow'}), confidence=1.0, lift=2.5), OrderedStatistic(items_base=frozenset({'lipstick', 'eyeshadow'}), items_add=frozenset({'conditioner'}), confidence=1.0, lift=1.6666666666666667)]),\n",
              " RelationRecord(items=frozenset({'shampoo', 'conditioner', 'toothpaste'}), support=0.2, ordered_statistics=[OrderedStatistic(items_base=frozenset({'conditioner', 'toothpaste'}), items_add=frozenset({'shampoo'}), confidence=1.0, lift=1.6666666666666667), OrderedStatistic(items_base=frozenset({'shampoo', 'toothpaste'}), items_add=frozenset({'conditioner'}), confidence=1.0, lift=1.6666666666666667)]),\n",
              " RelationRecord(items=frozenset({'hairspray', 'shampoo', 'eyeshadow'}), support=0.2, ordered_statistics=[OrderedStatistic(items_base=frozenset({'hairspray', 'eyeshadow'}), items_add=frozenset({'shampoo'}), confidence=1.0, lift=1.6666666666666667), OrderedStatistic(items_base=frozenset({'shampoo', 'eyeshadow'}), items_add=frozenset({'hairspray'}), confidence=1.0, lift=2.5), OrderedStatistic(items_base=frozenset({'hairspray', 'shampoo'}), items_add=frozenset({'eyeshadow'}), confidence=1.0, lift=2.5)]),\n",
              " RelationRecord(items=frozenset({'hairspray', 'lipstick', 'toothpaste'}), support=0.2, ordered_statistics=[OrderedStatistic(items_base=frozenset({'hairspray', 'lipstick'}), items_add=frozenset({'toothpaste'}), confidence=1.0, lift=2.5), OrderedStatistic(items_base=frozenset({'hairspray', 'toothpaste'}), items_add=frozenset({'lipstick'}), confidence=1.0, lift=2.5), OrderedStatistic(items_base=frozenset({'lipstick', 'toothpaste'}), items_add=frozenset({'hairspray'}), confidence=1.0, lift=2.5)])]"
            ]
          },
          "metadata": {},
          "execution_count": 19
        }
      ]
    }
  ]
}