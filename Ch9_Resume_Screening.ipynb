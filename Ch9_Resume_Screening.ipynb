{
  "nbformat": 4,
  "nbformat_minor": 0,
  "metadata": {
    "colab": {
      "provenance": [],
      "authorship_tag": "ABX9TyNNZsJ5PmxIjG/T1Pl2BCtS",
      "include_colab_link": true
    },
    "kernelspec": {
      "name": "python3",
      "display_name": "Python 3"
    },
    "language_info": {
      "name": "python"
    }
  },
  "cells": [
    {
      "cell_type": "markdown",
      "metadata": {
        "id": "view-in-github",
        "colab_type": "text"
      },
      "source": [
        "<a href=\"https://colab.research.google.com/github/DrStephPowers/BIA/blob/main/Ch9_Resume_Screening.ipynb\" target=\"_parent\"><img src=\"https://colab.research.google.com/assets/colab-badge.svg\" alt=\"Open In Colab\"/></a>"
      ]
    },
    {
      "cell_type": "markdown",
      "source": [
        "### Setting up Textract"
      ],
      "metadata": {
        "id": "0-HCtUUso47n"
      }
    },
    {
      "cell_type": "code",
      "execution_count": null,
      "metadata": {
        "colab": {
          "base_uri": "https://localhost:8080/"
        },
        "id": "1avyS6AunaQg",
        "outputId": "d1db668e-ee5b-441e-be2b-bc905d875563"
      },
      "outputs": [
        {
          "output_type": "stream",
          "name": "stdout",
          "text": [
            "Requirement already satisfied: pip in /usr/local/lib/python3.10/dist-packages (24.3.1)\n"
          ]
        }
      ],
      "source": [
        "!pip install --upgrade pip"
      ]
    },
    {
      "cell_type": "code",
      "source": [
        "!pip install \"setuptools<58.0.0\""
      ],
      "metadata": {
        "colab": {
          "base_uri": "https://localhost:8080/"
        },
        "id": "XyKjAPINn8_n",
        "outputId": "a9fc6d28-243a-4c3e-a5ad-15d869278c83"
      },
      "execution_count": null,
      "outputs": [
        {
          "output_type": "stream",
          "name": "stdout",
          "text": [
            "Requirement already satisfied: setuptools<58.0.0 in /usr/local/lib/python3.10/dist-packages (57.5.0)\n"
          ]
        }
      ]
    },
    {
      "cell_type": "markdown",
      "source": [
        "It will ask you to restart session. Click okay. Then run again from the top."
      ],
      "metadata": {
        "id": "7kABifHKpLAP"
      }
    },
    {
      "cell_type": "code",
      "source": [
        "!pip install textract"
      ],
      "metadata": {
        "colab": {
          "base_uri": "https://localhost:8080/"
        },
        "id": "-7dD39PCnrvy",
        "outputId": "7b902612-f4b3-4a1b-ac31-49e07710fc72"
      },
      "execution_count": null,
      "outputs": [
        {
          "output_type": "stream",
          "name": "stdout",
          "text": [
            "Requirement already satisfied: textract in /usr/local/lib/python3.10/dist-packages (1.6.3)\n",
            "Requirement already satisfied: argcomplete==1.10.0 in /usr/local/lib/python3.10/dist-packages (from textract) (1.10.0)\n",
            "Requirement already satisfied: beautifulsoup4==4.8.0 in /usr/local/lib/python3.10/dist-packages (from textract) (4.8.0)\n",
            "Requirement already satisfied: chardet==3.0.4 in /usr/local/lib/python3.10/dist-packages (from textract) (3.0.4)\n",
            "Requirement already satisfied: docx2txt==0.8 in /usr/local/lib/python3.10/dist-packages (from textract) (0.8)\n",
            "Requirement already satisfied: EbookLib==0.17.1 in /usr/local/lib/python3.10/dist-packages (from textract) (0.17.1)\n",
            "Requirement already satisfied: extract-msg==0.23.1 in /usr/local/lib/python3.10/dist-packages (from textract) (0.23.1)\n",
            "Requirement already satisfied: pdfminer.six==20181108 in /usr/local/lib/python3.10/dist-packages (from textract) (20181108)\n",
            "Requirement already satisfied: python-pptx==0.6.18 in /usr/local/lib/python3.10/dist-packages (from textract) (0.6.18)\n",
            "Requirement already satisfied: six==1.12.0 in /usr/local/lib/python3.10/dist-packages (from textract) (1.12.0)\n",
            "Requirement already satisfied: SpeechRecognition==3.8.1 in /usr/local/lib/python3.10/dist-packages (from textract) (3.8.1)\n",
            "Requirement already satisfied: xlrd==1.2.0 in /usr/local/lib/python3.10/dist-packages (from textract) (1.2.0)\n",
            "Requirement already satisfied: soupsieve>=1.2 in /usr/local/lib/python3.10/dist-packages (from beautifulsoup4==4.8.0->textract) (2.6)\n",
            "Requirement already satisfied: lxml in /usr/local/lib/python3.10/dist-packages (from EbookLib==0.17.1->textract) (5.3.0)\n",
            "Requirement already satisfied: imapclient==2.1.0 in /usr/local/lib/python3.10/dist-packages (from extract-msg==0.23.1->textract) (2.1.0)\n",
            "Requirement already satisfied: olefile==0.46 in /usr/local/lib/python3.10/dist-packages (from extract-msg==0.23.1->textract) (0.46)\n",
            "Requirement already satisfied: tzlocal==1.5.1 in /usr/local/lib/python3.10/dist-packages (from extract-msg==0.23.1->textract) (1.5.1)\n",
            "Requirement already satisfied: pycryptodome in /usr/local/lib/python3.10/dist-packages (from pdfminer.six==20181108->textract) (3.21.0)\n",
            "Requirement already satisfied: sortedcontainers in /usr/local/lib/python3.10/dist-packages (from pdfminer.six==20181108->textract) (2.4.0)\n",
            "Requirement already satisfied: Pillow>=3.3.2 in /usr/local/lib/python3.10/dist-packages (from python-pptx==0.6.18->textract) (10.4.0)\n",
            "Requirement already satisfied: XlsxWriter>=0.5.7 in /usr/local/lib/python3.10/dist-packages (from python-pptx==0.6.18->textract) (3.2.0)\n",
            "Requirement already satisfied: pytz in /usr/local/lib/python3.10/dist-packages (from tzlocal==1.5.1->extract-msg==0.23.1->textract) (2024.2)\n"
          ]
        }
      ]
    },
    {
      "cell_type": "markdown",
      "source": [
        "It will ask you to restart session. Click okay. Then run again from the top."
      ],
      "metadata": {
        "id": "KFsgyP5xpTzk"
      }
    },
    {
      "cell_type": "code",
      "source": [
        "!pip install pdfminer.six"
      ],
      "metadata": {
        "colab": {
          "base_uri": "https://localhost:8080/"
        },
        "id": "d1f9HdGooAY0",
        "outputId": "569519d8-17ab-42d5-a7d5-e0925c6e4882"
      },
      "execution_count": null,
      "outputs": [
        {
          "output_type": "stream",
          "name": "stdout",
          "text": [
            "Requirement already satisfied: pdfminer.six in /usr/local/lib/python3.10/dist-packages (20181108)\n",
            "Requirement already satisfied: six in /usr/local/lib/python3.10/dist-packages (from pdfminer.six) (1.12.0)\n",
            "Requirement already satisfied: pycryptodome in /usr/local/lib/python3.10/dist-packages (from pdfminer.six) (3.21.0)\n",
            "Requirement already satisfied: sortedcontainers in /usr/local/lib/python3.10/dist-packages (from pdfminer.six) (2.4.0)\n"
          ]
        }
      ]
    },
    {
      "cell_type": "markdown",
      "source": [
        "### Import Resumes"
      ],
      "metadata": {
        "id": "gmsTJ43JpBqx"
      }
    },
    {
      "cell_type": "code",
      "source": [
        "from google.colab import drive\n",
        "drive.mount('/content/drive')"
      ],
      "metadata": {
        "colab": {
          "base_uri": "https://localhost:8080/"
        },
        "id": "_jL1AUJxoDvk",
        "outputId": "20f30f36-7975-4938-b051-fce6bcbb2af0"
      },
      "execution_count": null,
      "outputs": [
        {
          "output_type": "stream",
          "name": "stdout",
          "text": [
            "Mounted at /content/drive\n"
          ]
        }
      ]
    },
    {
      "cell_type": "code",
      "source": [
        "import textract"
      ],
      "metadata": {
        "id": "WzZThm3voFzr"
      },
      "execution_count": null,
      "outputs": []
    },
    {
      "cell_type": "code",
      "source": [
        "P1 = textract.process(\"/content/drive/MyDrive/Datasets/Resumes/Person01.pdf\", method='pdfminer',\n",
        "    language='eng')\n",
        "P1 = P1.decode(\"utf-8\")"
      ],
      "metadata": {
        "id": "-H_dl6HboHXF"
      },
      "execution_count": null,
      "outputs": []
    },
    {
      "cell_type": "code",
      "source": [],
      "metadata": {
        "id": "Vo6M_-8LtAgk"
      },
      "execution_count": null,
      "outputs": []
    },
    {
      "cell_type": "code",
      "source": [],
      "metadata": {
        "id": "myx25XY6tAjN"
      },
      "execution_count": null,
      "outputs": []
    },
    {
      "cell_type": "code",
      "source": [],
      "metadata": {
        "id": "N4VljIWrtAlo"
      },
      "execution_count": null,
      "outputs": []
    },
    {
      "cell_type": "code",
      "source": [],
      "metadata": {
        "id": "nVJrH6C1tAob"
      },
      "execution_count": null,
      "outputs": []
    },
    {
      "cell_type": "code",
      "source": [],
      "metadata": {
        "id": "VfIIuN2AtArB"
      },
      "execution_count": null,
      "outputs": []
    },
    {
      "cell_type": "code",
      "source": [],
      "metadata": {
        "id": "zROMzLGytAtv"
      },
      "execution_count": null,
      "outputs": []
    },
    {
      "cell_type": "markdown",
      "source": [
        "### Clean Text"
      ],
      "metadata": {
        "id": "xVrPiiHztEqI"
      }
    },
    {
      "cell_type": "code",
      "source": [
        "import re"
      ],
      "metadata": {
        "id": "Nku6DENPoLOW"
      },
      "execution_count": null,
      "outputs": []
    },
    {
      "cell_type": "code",
      "source": [
        "def clean_text(text):\n",
        "    text = re.sub('\\xa0', ' ', text)\n",
        "    text = re.sub('\\n•', ' ', text)\n",
        "    text = re.sub('\\n', ' ', text)\n",
        "    text = re.sub('\\ue080', ' ', text)\n",
        "    text = re.sub('\\x0c', ' ', text)\n",
        "    html = re.compile('[<,#*?>]')\n",
        "    text = html.sub(r' ',text)\n",
        "    url = re.compile('https?://\\S+|www\\.S+')\n",
        "    text = url.sub(r' ',text)\n",
        "    email = re.compile('[A-Za-z0-2]+@[\\w]+.[\\w]+')\n",
        "    text = email.sub(r' ',text)\n",
        "    return text"
      ],
      "metadata": {
        "id": "LINoCDdLoNpF"
      },
      "execution_count": null,
      "outputs": []
    },
    {
      "cell_type": "code",
      "source": [
        "p1 = clean_text(P1)"
      ],
      "metadata": {
        "id": "s7POq-8aoP4s"
      },
      "execution_count": null,
      "outputs": []
    },
    {
      "cell_type": "code",
      "source": [],
      "metadata": {
        "id": "qnWQjoQItJL4"
      },
      "execution_count": null,
      "outputs": []
    },
    {
      "cell_type": "code",
      "source": [],
      "metadata": {
        "id": "sLnujDaXtJOV"
      },
      "execution_count": null,
      "outputs": []
    },
    {
      "cell_type": "code",
      "source": [],
      "metadata": {
        "id": "adpU4Qz6tJRD"
      },
      "execution_count": null,
      "outputs": []
    },
    {
      "cell_type": "markdown",
      "source": [
        "### Tokenization"
      ],
      "metadata": {
        "id": "zfpbtThFq4N2"
      }
    },
    {
      "cell_type": "code",
      "source": [
        "from sklearn.feature_extraction.text import TfidfVectorizer\n",
        "import pandas as pd"
      ],
      "metadata": {
        "id": "7vf6pNy3oSqX"
      },
      "execution_count": null,
      "outputs": []
    },
    {
      "cell_type": "code",
      "source": [
        "def TFIDF_tokenize(text):\n",
        "    tfidf = TfidfVectorizer(stop_words=\"english\")\n",
        "    tfidf_mat = tfidf.fit_transform(text)\n",
        "    words = tfidf.get_feature_names_out(text)\n",
        "    return tfidf_mat, words"
      ],
      "metadata": {
        "id": "NnlydQQ6oUsk"
      },
      "execution_count": null,
      "outputs": []
    },
    {
      "cell_type": "code",
      "source": [
        "text = [p1, p2, p3, p4, p5]"
      ],
      "metadata": {
        "id": "QTp-gBExoWZn"
      },
      "execution_count": null,
      "outputs": []
    },
    {
      "cell_type": "code",
      "source": [
        "tfidf_mat, words  = TFIDF_tokenize(text)"
      ],
      "metadata": {
        "id": "MGZTiyBxoYMS"
      },
      "execution_count": null,
      "outputs": []
    },
    {
      "cell_type": "code",
      "source": [
        "df_tf_idf = pd.DataFrame(tfidf_mat.toarray(), columns = words)"
      ],
      "metadata": {
        "id": "mHmf8aGUoaWY"
      },
      "execution_count": null,
      "outputs": []
    },
    {
      "cell_type": "markdown",
      "source": [
        "### Pipeline (SVD and KMeans)"
      ],
      "metadata": {
        "id": "ZJwRvptHtSU4"
      }
    },
    {
      "cell_type": "code",
      "source": [
        "from sklearn.decomposition import TruncatedSVD\n",
        "from sklearn.cluster import KMeans\n",
        "from sklearn.pipeline import make_pipeline"
      ],
      "metadata": {
        "id": "jNLlK5pmoeMy"
      },
      "execution_count": null,
      "outputs": []
    },
    {
      "cell_type": "code",
      "source": [
        "svd = TruncatedSVD(n_components=2)\n",
        "kmeans = KMeans(n_clusters=2)\n",
        "\n",
        "pipeline = make_pipeline(svd, kmeans)\n",
        "\n",
        "pipeline.fit(df_tf_idf)\n",
        "labels = pipeline.predict(df_tf_idf )"
      ],
      "metadata": {
        "id": "ZErLFwULof2-"
      },
      "execution_count": null,
      "outputs": []
    },
    {
      "cell_type": "code",
      "source": [
        "labels"
      ],
      "metadata": {
        "colab": {
          "base_uri": "https://localhost:8080/"
        },
        "id": "AEV_fcHaohJn",
        "outputId": "4cb25636-af31-4dc3-d1d3-773ee046e70b"
      },
      "execution_count": null,
      "outputs": [
        {
          "output_type": "execute_result",
          "data": {
            "text/plain": [
              "array([1, 1, 0, 0, 0], dtype=int32)"
            ]
          },
          "metadata": {},
          "execution_count": 26
        }
      ]
    }
  ]
}